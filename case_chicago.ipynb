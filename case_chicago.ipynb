{
 "cells": [
  {
   "cell_type": "code",
   "execution_count": 1,
   "metadata": {},
   "outputs": [
    {
     "name": "stderr",
     "output_type": "stream",
     "text": [
      "/Users/hongde.liang/opt/anaconda3/envs/py36hd/lib/python3.6/site-packages/geopandas/_compat.py:110: UserWarning: The Shapely GEOS version (3.8.0-CAPI-1.13.1 ) is incompatible with the GEOS version PyGEOS was compiled with (3.9.1-CAPI-1.14.2). Conversions between both will be slow.\n",
      "  shapely_geos_version, geos_capi_version_string\n"
     ]
    }
   ],
   "source": [
    "import json\n",
    "import numpy as np\n",
    "import pandas as pd\n",
    "import geopandas as gpd\n",
    "from keplergl import KeplerGl\n",
    "import matplotlib.pyplot as plt\n",
    "from shapely.geometry import Point, shape\n",
    "from math import atan2, cos, radians, sin, sqrt"
   ]
  },
  {
   "cell_type": "markdown",
   "metadata": {},
   "source": [
    "# Setting up"
   ]
  },
  {
   "cell_type": "code",
   "execution_count": 2,
   "metadata": {},
   "outputs": [],
   "source": [
    "pd.set_option('max_columns', None)\n",
    "pd.set_option(\"max_rows\", None)"
   ]
  },
  {
   "cell_type": "code",
   "execution_count": 606,
   "metadata": {},
   "outputs": [],
   "source": [
    "df = pd.read_csv('Taxi_Trips_-_2021.csv')"
   ]
  },
  {
   "cell_type": "code",
   "execution_count": 607,
   "metadata": {},
   "outputs": [],
   "source": [
    "useful_columns = [\n",
    "    'Fare',  \n",
    "    'Company',\n",
    "    'Trip Miles', \n",
    "    'Trip Seconds', \n",
    "    'Trip Start Timestamp', \n",
    "    'Payment Type',\n",
    "    'Pickup Centroid Latitude',\n",
    "    'Pickup Centroid Longitude', \n",
    "    'Dropoff Centroid Latitude', \n",
    "    'Dropoff Centroid Longitude'\n",
    "]\n",
    "df = pd.read_csv('Taxi_Trips_-_2021.csv', usecols=useful_columns)\n",
    "df = df.dropna()\n",
    "df = df.drop_duplicates()"
   ]
  },
  {
   "cell_type": "code",
   "execution_count": 5,
   "metadata": {},
   "outputs": [],
   "source": [
    "DISTANCE_DECIMAL = 3\n",
    "def flying_distance(lat1, lon1, lat2, lon2):\n",
    "    \"\"\"calculate the spherical distance between two locations\n",
    "    :return: scalar of distance in meters\n",
    "    \"\"\"\n",
    "    \n",
    "    lat1, lon1, lat2, lon2 = (radians(float(val)) for val in [lat1, lon1, lat2, lon2])\n",
    "    dlon = lon2 - lon1\n",
    "    dlat = lat2 - lat1\n",
    "    val1 = (sin(dlat / 2)) ** 2 + cos(lat1) * cos(lat2) * (sin(dlon / 2)) ** 2\n",
    "    val2 = 2 * atan2(sqrt(val1), sqrt(1 - val1))\n",
    "    radius = 6371.0\n",
    "    distance = round(radius * val2 * 1000, DISTANCE_DECIMAL)\n",
    "    return distance"
   ]
  },
  {
   "cell_type": "code",
   "execution_count": 6,
   "metadata": {},
   "outputs": [],
   "source": [
    "# Chicago Census polygon data obtained from \n",
    "# https://data.cityofchicago.org/Facilities-Geographic-Boundaries/Boundaries-Census-Tracts-2010/5jrd-6zik\n",
    "# There are a total of 801 census tracks in Chigago\n",
    "# name10: the name of the census tracks\n",
    "# commarea: area of the census tracks\n",
    "# geometry: census track boundary in the form of polygons\n",
    "\n",
    "census = gpd.read_file('Chicago_Census_Tracts.geojson')\n",
    "census_tracts = census[['name10', 'commarea', 'geometry']]\n",
    "gpdrtree_index = census_tracts['geometry'].sindex\n",
    "def reverse_geocode_census(lat, lon):\n",
    "    \"\"\"use geopandas rtree method for reverse geocoding\n",
    "    return the census tract name based on lat and lon\n",
    "    \"\"\"\n",
    "    if lat and lon:\n",
    "        lat, lon = [float(item) for item in [lat, lon]]\n",
    "        location = Point(lon, lat)\n",
    "        targets_index = gpdrtree_index.query(location)\n",
    "        for index in targets_index: \n",
    "            if census_tracts.iloc[index, 2].contains(location):\n",
    "                census_tract = census_tracts.iloc[index, 0].lower()\n",
    "                return census_tract\n",
    "    return None"
   ]
  },
  {
   "cell_type": "code",
   "execution_count": 7,
   "metadata": {},
   "outputs": [],
   "source": [
    "def unit_fare(fare, miles):\n",
    "    \"\"\"calculate the average fare per mile\n",
    "    return Null if miles = 0\"\"\"\n",
    "    return fare/miles if miles else None"
   ]
  },
  {
   "cell_type": "markdown",
   "metadata": {},
   "source": [
    "# Visual"
   ]
  },
  {
   "cell_type": "code",
   "execution_count": 608,
   "metadata": {},
   "outputs": [],
   "source": [
    "df_sample = df.sample(3000)"
   ]
  },
  {
   "cell_type": "code",
   "execution_count": 609,
   "metadata": {},
   "outputs": [
    {
     "data": {
      "text/plain": [
       "3000"
      ]
     },
     "execution_count": 609,
     "metadata": {},
     "output_type": "execute_result"
    }
   ],
   "source": [
    "len(df_sample)"
   ]
  },
  {
   "cell_type": "code",
   "execution_count": 610,
   "metadata": {},
   "outputs": [
    {
     "name": "stdout",
     "output_type": "stream",
     "text": [
      "User Guide: https://docs.kepler.gl/docs/keplergl-jupyter\n"
     ]
    }
   ],
   "source": [
    "map_chicago_visual =KeplerGl(height = 800)\n",
    "map_chicago_visual.add_data(data = df_sample, name = 'trip sample 3000')"
   ]
  },
  {
   "cell_type": "code",
   "execution_count": 612,
   "metadata": {},
   "outputs": [
    {
     "name": "stdout",
     "output_type": "stream",
     "text": [
      "Map saved to map_chicago_visual.html!\n"
     ]
    }
   ],
   "source": [
    "map_chicago_visual.save_to_html(file_name='map_chicago_visual.html')"
   ]
  },
  {
   "cell_type": "code",
   "execution_count": 611,
   "metadata": {},
   "outputs": [
    {
     "data": {
      "application/vnd.jupyter.widget-view+json": {
       "model_id": "ab338b1486794a1e8db9ce34f82972bb",
       "version_major": 2,
       "version_minor": 0
      },
      "text/plain": [
       "KeplerGl(data={'trip sample 3000': {'index': [973288, 1018284, 1119589, 394565, 264851, 805893, 637717, 335191…"
      ]
     },
     "metadata": {},
     "output_type": "display_data"
    }
   ],
   "source": [
    "map_chicago_visual"
   ]
  },
  {
   "cell_type": "markdown",
   "metadata": {},
   "source": [
    "# Process data"
   ]
  },
  {
   "cell_type": "code",
   "execution_count": 82,
   "metadata": {},
   "outputs": [],
   "source": [
    "df['Timestamp'] = pd.to_datetime(df['Trip Start Timestamp'])\n",
    "df['is_weekday'] =[bool(d.weekday() < 5) for d in df['Timestamp']]\n",
    "df['hour'] = [d.hour for d in df['Timestamp']]\n",
    "df['pick_up_census'] = df.apply(\n",
    "    lambda x: reverse_geocode_census(x['Pickup Centroid Latitude'], x['Pickup Centroid Longitude']), \n",
    "    axis = 1)\n",
    "df['drop_off_census'] = df.apply(\n",
    "    lambda x: reverse_geocode_census(x['Dropoff Centroid Latitude'], x['Dropoff Centroid Longitude']), \n",
    "    axis = 1)\n",
    "df['fly_distance'] = df.apply(\n",
    "    lambda x: flying_distance(x['Pickup Centroid Latitude'], \n",
    "                              x['Pickup Centroid Longitude'], \n",
    "                              x['Dropoff Centroid Latitude'], \n",
    "                              x['Dropoff Centroid Longitude']), axis = 1)\n",
    "df['unit_fare'] = df.apply(\n",
    "    lambda x: unit_fare(x['Fare'], x['Trip Miles']), \n",
    "    axis = 1)"
   ]
  },
  {
   "cell_type": "markdown",
   "metadata": {},
   "source": [
    "# Raw Data Statistis Analysis"
   ]
  },
  {
   "cell_type": "code",
   "execution_count": 47,
   "metadata": {
    "scrolled": false
   },
   "outputs": [
    {
     "data": {
      "text/html": [
       "<div>\n",
       "<style scoped>\n",
       "    .dataframe tbody tr th:only-of-type {\n",
       "        vertical-align: middle;\n",
       "    }\n",
       "\n",
       "    .dataframe tbody tr th {\n",
       "        vertical-align: top;\n",
       "    }\n",
       "\n",
       "    .dataframe thead th {\n",
       "        text-align: right;\n",
       "    }\n",
       "</style>\n",
       "<table border=\"1\" class=\"dataframe\">\n",
       "  <thead>\n",
       "    <tr style=\"text-align: right;\">\n",
       "      <th></th>\n",
       "      <th>Trip Seconds</th>\n",
       "      <th>Trip Miles</th>\n",
       "      <th>Fare</th>\n",
       "      <th>Pickup Centroid Latitude</th>\n",
       "      <th>Pickup Centroid Longitude</th>\n",
       "      <th>Dropoff Centroid Latitude</th>\n",
       "      <th>Dropoff Centroid Longitude</th>\n",
       "    </tr>\n",
       "  </thead>\n",
       "  <tbody>\n",
       "    <tr>\n",
       "      <th>count</th>\n",
       "      <td>1.147347e+06</td>\n",
       "      <td>1.147347e+06</td>\n",
       "      <td>1.147347e+06</td>\n",
       "      <td>1.147347e+06</td>\n",
       "      <td>1.147347e+06</td>\n",
       "      <td>1.147347e+06</td>\n",
       "      <td>1.147347e+06</td>\n",
       "    </tr>\n",
       "    <tr>\n",
       "      <th>mean</th>\n",
       "      <td>1.085565e+03</td>\n",
       "      <td>4.912347e+00</td>\n",
       "      <td>1.821923e+01</td>\n",
       "      <td>4.188992e+01</td>\n",
       "      <td>-8.767473e+01</td>\n",
       "      <td>4.188736e+01</td>\n",
       "      <td>-8.765773e+01</td>\n",
       "    </tr>\n",
       "    <tr>\n",
       "      <th>std</th>\n",
       "      <td>1.844651e+03</td>\n",
       "      <td>7.010922e+00</td>\n",
       "      <td>3.784984e+01</td>\n",
       "      <td>6.967940e-02</td>\n",
       "      <td>8.768225e-02</td>\n",
       "      <td>6.786209e-02</td>\n",
       "      <td>6.064079e-02</td>\n",
       "    </tr>\n",
       "    <tr>\n",
       "      <th>min</th>\n",
       "      <td>0.000000e+00</td>\n",
       "      <td>0.000000e+00</td>\n",
       "      <td>0.000000e+00</td>\n",
       "      <td>4.166014e+01</td>\n",
       "      <td>-8.791362e+01</td>\n",
       "      <td>4.166014e+01</td>\n",
       "      <td>-8.791362e+01</td>\n",
       "    </tr>\n",
       "    <tr>\n",
       "      <th>25%</th>\n",
       "      <td>4.200000e+02</td>\n",
       "      <td>6.000000e-01</td>\n",
       "      <td>7.000000e+00</td>\n",
       "      <td>4.187401e+01</td>\n",
       "      <td>-8.767017e+01</td>\n",
       "      <td>4.187401e+01</td>\n",
       "      <td>-8.766352e+01</td>\n",
       "    </tr>\n",
       "    <tr>\n",
       "      <th>50%</th>\n",
       "      <td>7.810000e+02</td>\n",
       "      <td>2.160000e+00</td>\n",
       "      <td>1.250000e+01</td>\n",
       "      <td>4.189916e+01</td>\n",
       "      <td>-8.764250e+01</td>\n",
       "      <td>4.189833e+01</td>\n",
       "      <td>-8.764250e+01</td>\n",
       "    </tr>\n",
       "    <tr>\n",
       "      <th>75%</th>\n",
       "      <td>1.455000e+03</td>\n",
       "      <td>8.400000e+00</td>\n",
       "      <td>2.850000e+01</td>\n",
       "      <td>4.194423e+01</td>\n",
       "      <td>-8.762519e+01</td>\n",
       "      <td>4.192276e+01</td>\n",
       "      <td>-8.762519e+01</td>\n",
       "    </tr>\n",
       "    <tr>\n",
       "      <th>max</th>\n",
       "      <td>8.634000e+04</td>\n",
       "      <td>2.183150e+03</td>\n",
       "      <td>9.300470e+03</td>\n",
       "      <td>4.202122e+01</td>\n",
       "      <td>-8.753139e+01</td>\n",
       "      <td>4.202122e+01</td>\n",
       "      <td>-8.753139e+01</td>\n",
       "    </tr>\n",
       "  </tbody>\n",
       "</table>\n",
       "</div>"
      ],
      "text/plain": [
       "       Trip Seconds    Trip Miles          Fare  Pickup Centroid Latitude  \\\n",
       "count  1.147347e+06  1.147347e+06  1.147347e+06              1.147347e+06   \n",
       "mean   1.085565e+03  4.912347e+00  1.821923e+01              4.188992e+01   \n",
       "std    1.844651e+03  7.010922e+00  3.784984e+01              6.967940e-02   \n",
       "min    0.000000e+00  0.000000e+00  0.000000e+00              4.166014e+01   \n",
       "25%    4.200000e+02  6.000000e-01  7.000000e+00              4.187401e+01   \n",
       "50%    7.810000e+02  2.160000e+00  1.250000e+01              4.189916e+01   \n",
       "75%    1.455000e+03  8.400000e+00  2.850000e+01              4.194423e+01   \n",
       "max    8.634000e+04  2.183150e+03  9.300470e+03              4.202122e+01   \n",
       "\n",
       "       Pickup Centroid Longitude  Dropoff Centroid Latitude  \\\n",
       "count               1.147347e+06               1.147347e+06   \n",
       "mean               -8.767473e+01               4.188736e+01   \n",
       "std                 8.768225e-02               6.786209e-02   \n",
       "min                -8.791362e+01               4.166014e+01   \n",
       "25%                -8.767017e+01               4.187401e+01   \n",
       "50%                -8.764250e+01               4.189833e+01   \n",
       "75%                -8.762519e+01               4.192276e+01   \n",
       "max                -8.753139e+01               4.202122e+01   \n",
       "\n",
       "       Dropoff Centroid Longitude  \n",
       "count                1.147347e+06  \n",
       "mean                -8.765773e+01  \n",
       "std                  6.064079e-02  \n",
       "min                 -8.791362e+01  \n",
       "25%                 -8.766352e+01  \n",
       "50%                 -8.764250e+01  \n",
       "75%                 -8.762519e+01  \n",
       "max                 -8.753139e+01  "
      ]
     },
     "execution_count": 47,
     "metadata": {},
     "output_type": "execute_result"
    }
   ],
   "source": [
    "df.describe()"
   ]
  },
  {
   "cell_type": "code",
   "execution_count": 197,
   "metadata": {},
   "outputs": [],
   "source": [
    "df_corr_fare = df.corr()['Fare'].to_frame(name=\"correlation_to_fare\")\n",
    "df_corr_fare = df_corr_fare.sort_values('correlation_to_fare', ascending = False)"
   ]
  },
  {
   "cell_type": "code",
   "execution_count": 198,
   "metadata": {},
   "outputs": [
    {
     "data": {
      "text/html": [
       "<div>\n",
       "<style scoped>\n",
       "    .dataframe tbody tr th:only-of-type {\n",
       "        vertical-align: middle;\n",
       "    }\n",
       "\n",
       "    .dataframe tbody tr th {\n",
       "        vertical-align: top;\n",
       "    }\n",
       "\n",
       "    .dataframe thead th {\n",
       "        text-align: right;\n",
       "    }\n",
       "</style>\n",
       "<table border=\"1\" class=\"dataframe\">\n",
       "  <thead>\n",
       "    <tr style=\"text-align: right;\">\n",
       "      <th></th>\n",
       "      <th>correlation_to_fare</th>\n",
       "    </tr>\n",
       "  </thead>\n",
       "  <tbody>\n",
       "    <tr>\n",
       "      <th>Fare</th>\n",
       "      <td>1.000000</td>\n",
       "    </tr>\n",
       "    <tr>\n",
       "      <th>unit_fare</th>\n",
       "      <td>0.622872</td>\n",
       "    </tr>\n",
       "    <tr>\n",
       "      <th>fly_distance</th>\n",
       "      <td>0.314080</td>\n",
       "    </tr>\n",
       "    <tr>\n",
       "      <th>Trip Miles</th>\n",
       "      <td>0.267008</td>\n",
       "    </tr>\n",
       "    <tr>\n",
       "      <th>Trip Seconds</th>\n",
       "      <td>0.151681</td>\n",
       "    </tr>\n",
       "    <tr>\n",
       "      <th>pick_up_census</th>\n",
       "      <td>0.139031</td>\n",
       "    </tr>\n",
       "    <tr>\n",
       "      <th>drop_off_census</th>\n",
       "      <td>0.047961</td>\n",
       "    </tr>\n",
       "    <tr>\n",
       "      <th>hour</th>\n",
       "      <td>0.002554</td>\n",
       "    </tr>\n",
       "    <tr>\n",
       "      <th>Pickup Centroid Latitude</th>\n",
       "      <td>-0.005354</td>\n",
       "    </tr>\n",
       "    <tr>\n",
       "      <th>is_weekday</th>\n",
       "      <td>-0.019408</td>\n",
       "    </tr>\n",
       "    <tr>\n",
       "      <th>Dropoff Centroid Latitude</th>\n",
       "      <td>-0.040550</td>\n",
       "    </tr>\n",
       "    <tr>\n",
       "      <th>Dropoff Centroid Longitude</th>\n",
       "      <td>-0.061133</td>\n",
       "    </tr>\n",
       "    <tr>\n",
       "      <th>Pickup Centroid Longitude</th>\n",
       "      <td>-0.171556</td>\n",
       "    </tr>\n",
       "  </tbody>\n",
       "</table>\n",
       "</div>"
      ],
      "text/plain": [
       "                            correlation_to_fare\n",
       "Fare                                   1.000000\n",
       "unit_fare                              0.622872\n",
       "fly_distance                           0.314080\n",
       "Trip Miles                             0.267008\n",
       "Trip Seconds                           0.151681\n",
       "pick_up_census                         0.139031\n",
       "drop_off_census                        0.047961\n",
       "hour                                   0.002554\n",
       "Pickup Centroid Latitude              -0.005354\n",
       "is_weekday                            -0.019408\n",
       "Dropoff Centroid Latitude             -0.040550\n",
       "Dropoff Centroid Longitude            -0.061133\n",
       "Pickup Centroid Longitude             -0.171556"
      ]
     },
     "execution_count": 198,
     "metadata": {},
     "output_type": "execute_result"
    }
   ],
   "source": [
    "df_corr_fare"
   ]
  },
  {
   "cell_type": "code",
   "execution_count": 200,
   "metadata": {},
   "outputs": [],
   "source": [
    "df_corr_unit_fare = df.corr()['unit_fare'].to_frame(name=\"correlation_to_unit_fare\")\n",
    "df_corr_unit_fare = df_corr_unit_fare.sort_values('correlation_to_unit_fare', ascending = False)"
   ]
  },
  {
   "cell_type": "code",
   "execution_count": 201,
   "metadata": {},
   "outputs": [
    {
     "data": {
      "text/html": [
       "<div>\n",
       "<style scoped>\n",
       "    .dataframe tbody tr th:only-of-type {\n",
       "        vertical-align: middle;\n",
       "    }\n",
       "\n",
       "    .dataframe tbody tr th {\n",
       "        vertical-align: top;\n",
       "    }\n",
       "\n",
       "    .dataframe thead th {\n",
       "        text-align: right;\n",
       "    }\n",
       "</style>\n",
       "<table border=\"1\" class=\"dataframe\">\n",
       "  <thead>\n",
       "    <tr style=\"text-align: right;\">\n",
       "      <th></th>\n",
       "      <th>correlation_to_unit_fare</th>\n",
       "    </tr>\n",
       "  </thead>\n",
       "  <tbody>\n",
       "    <tr>\n",
       "      <th>unit_fare</th>\n",
       "      <td>1.000000</td>\n",
       "    </tr>\n",
       "    <tr>\n",
       "      <th>Fare</th>\n",
       "      <td>0.622872</td>\n",
       "    </tr>\n",
       "    <tr>\n",
       "      <th>drop_off_census</th>\n",
       "      <td>0.003994</td>\n",
       "    </tr>\n",
       "    <tr>\n",
       "      <th>Pickup Centroid Longitude</th>\n",
       "      <td>0.003438</td>\n",
       "    </tr>\n",
       "    <tr>\n",
       "      <th>Trip Seconds</th>\n",
       "      <td>0.002468</td>\n",
       "    </tr>\n",
       "    <tr>\n",
       "      <th>hour</th>\n",
       "      <td>0.001273</td>\n",
       "    </tr>\n",
       "    <tr>\n",
       "      <th>Dropoff Centroid Latitude</th>\n",
       "      <td>-0.000810</td>\n",
       "    </tr>\n",
       "    <tr>\n",
       "      <th>pick_up_census</th>\n",
       "      <td>-0.001385</td>\n",
       "    </tr>\n",
       "    <tr>\n",
       "      <th>is_weekday</th>\n",
       "      <td>-0.002155</td>\n",
       "    </tr>\n",
       "    <tr>\n",
       "      <th>Pickup Centroid Latitude</th>\n",
       "      <td>-0.003194</td>\n",
       "    </tr>\n",
       "    <tr>\n",
       "      <th>Dropoff Centroid Longitude</th>\n",
       "      <td>-0.003971</td>\n",
       "    </tr>\n",
       "    <tr>\n",
       "      <th>fly_distance</th>\n",
       "      <td>-0.015264</td>\n",
       "    </tr>\n",
       "    <tr>\n",
       "      <th>Trip Miles</th>\n",
       "      <td>-0.037954</td>\n",
       "    </tr>\n",
       "  </tbody>\n",
       "</table>\n",
       "</div>"
      ],
      "text/plain": [
       "                            correlation_to_unit_fare\n",
       "unit_fare                                   1.000000\n",
       "Fare                                        0.622872\n",
       "drop_off_census                             0.003994\n",
       "Pickup Centroid Longitude                   0.003438\n",
       "Trip Seconds                                0.002468\n",
       "hour                                        0.001273\n",
       "Dropoff Centroid Latitude                  -0.000810\n",
       "pick_up_census                             -0.001385\n",
       "is_weekday                                 -0.002155\n",
       "Pickup Centroid Latitude                   -0.003194\n",
       "Dropoff Centroid Longitude                 -0.003971\n",
       "fly_distance                               -0.015264\n",
       "Trip Miles                                 -0.037954"
      ]
     },
     "execution_count": 201,
     "metadata": {},
     "output_type": "execute_result"
    }
   ],
   "source": [
    "df_corr_unit_fare"
   ]
  },
  {
   "cell_type": "code",
   "execution_count": 37,
   "metadata": {},
   "outputs": [
    {
     "data": {
      "image/png": "[encoded data removed]",
      "text/plain": [
       "<Figure size 432x288 with 1 Axes>"
      ]
     },
     "metadata": {
      "needs_background": "light"
     },
     "output_type": "display_data"
    }
   ],
   "source": [
    "ax = plt.hist(df['Trip Seconds']/3600, 30, range=[0, 2], facecolor='gray', align='mid')"
   ]
  },
  {
   "cell_type": "code",
   "execution_count": 80,
   "metadata": {},
   "outputs": [
    {
     "data": {
      "image/png": "[encoded data removed]",
      "text/plain": [
       "<Figure size 432x288 with 1 Axes>"
      ]
     },
     "metadata": {
      "needs_background": "light"
     },
     "output_type": "display_data"
    }
   ],
   "source": [
    "ax = plt.hist(df['Trip Miles'], 30, range=[0, 40], facecolor='gray', align='mid')"
   ]
  },
  {
   "cell_type": "code",
   "execution_count": 614,
   "metadata": {},
   "outputs": [
    {
     "data": {
      "image/png": "[encoded data removed]",
      "text/plain": [
       "<Figure size 432x288 with 1 Axes>"
      ]
     },
     "metadata": {
      "needs_background": "light"
     },
     "output_type": "display_data"
    }
   ],
   "source": [
    "ax = plt.hist(df['Fare'], 50, range=[0, 100], facecolor='gray', align='mid')"
   ]
  },
  {
   "cell_type": "code",
   "execution_count": 339,
   "metadata": {},
   "outputs": [
    {
     "data": {
      "image/png": "[encoded data removed]",
      "text/plain": [
       "<Figure size 432x288 with 1 Axes>"
      ]
     },
     "metadata": {
      "needs_background": "light"
     },
     "output_type": "display_data"
    }
   ],
   "source": [
    "ax = plt.hist(df['unit_fare'], 30, range=[0, 20], facecolor='gray', align='mid')"
   ]
  },
  {
   "cell_type": "code",
   "execution_count": 25,
   "metadata": {},
   "outputs": [
    {
     "data": {
      "text/plain": [
       "Cash           0.427761\n",
       "Credit Card    0.244651\n",
       "Prcard         0.154959\n",
       "Unknown        0.129830\n",
       "Mobile         0.041777\n",
       "Dispute        0.000710\n",
       "No Charge      0.000308\n",
       "Prepaid        0.000003\n",
       "Name: Payment Type, dtype: float64"
      ]
     },
     "execution_count": 25,
     "metadata": {},
     "output_type": "execute_result"
    }
   ],
   "source": [
    "df['Payment Type'].value_counts() / len(df)"
   ]
  },
  {
   "cell_type": "code",
   "execution_count": 26,
   "metadata": {},
   "outputs": [
    {
     "data": {
      "text/plain": [
       "Flash Cab                               0.329050\n",
       "Taxi Affiliation Services               0.322192\n",
       "Medallion Leasin                        0.060411\n",
       "Taxicab Insurance Agency, LLC           0.051041\n",
       "Sun Taxi                                0.040968\n",
       "City Service                            0.036495\n",
       "Blue Ribbon Taxi Association Inc.       0.027498\n",
       "Top Cab Affiliation                     0.025992\n",
       "Star North Management LLC               0.025526\n",
       "Globe Taxi                              0.020113\n",
       "U Taxicab                               0.016749\n",
       "Chicago Independents                    0.015097\n",
       "Patriot Taxi Dba Peace Taxi Associat    0.008828\n",
       "24 Seven Taxi                           0.003707\n",
       "Setare Inc                              0.003287\n",
       "Chicago Taxicab                         0.002820\n",
       "Choice Taxi Association                 0.001802\n",
       "312 Medallion Management Corp           0.001741\n",
       "KOAM Taxi Association                   0.001518\n",
       "3591 - 63480 Chuks Cab                  0.001263\n",
       "3556 - 36214 RC Andrews Cab             0.000858\n",
       "5062 - 34841 Sam Mestas                 0.000783\n",
       "3620 - 52292 David K. Cab Corp.         0.000543\n",
       "Metro Jet Cab Association Inc.          0.000542\n",
       "Petani Cab Corp                         0.000438\n",
       "2733 - 74600 Benny Jona                 0.000311\n",
       "Metro Jet Taxi Ass                      0.000232\n",
       "3011 - 66308 JBL Cab Inc.               0.000092\n",
       "6743 - 78771 Luhak Corp                 0.000067\n",
       "4523 - 79481 Hazel Transit Inc          0.000037\n",
       "Name: Company, dtype: float64"
      ]
     },
     "execution_count": 26,
     "metadata": {},
     "output_type": "execute_result"
    }
   ],
   "source": [
    "df['Company'].value_counts() / len(df)"
   ]
  },
  {
   "cell_type": "markdown",
   "metadata": {},
   "source": [
    "# Investigation on pickup census"
   ]
  },
  {
   "cell_type": "code",
   "execution_count": 509,
   "metadata": {},
   "outputs": [],
   "source": [
    "# calculate median unit_fare by census\n",
    "df_census_unit_fare_pickup = df.groupby('pick_up_census')['unit_fare'].median()  # use median to minimise the impacts of the extreme cases\n",
    "df_census_unit_fare_pickup = df_census_unit_fare_pickup.to_frame(name=\"unit_fare\")\n",
    "\n",
    "# calculate trip counts and percentage by census\n",
    "df_census_count_pickup = df.groupby(['pick_up_census']).size()\n",
    "df_census_count_pickup = df_census_count_pickup.to_frame(name=\"count\")\n",
    "df_census_count_pickup['percentage'] = [\"{0:.2f}%\".format(val * 100) for val in df_census_count_pickup['count'] / len(df)]  \n",
    "df_census_info_pickup = pd.merge(df_census_count_pickup, df_census_unit_fare_pickup, how='inner', on='pick_up_census')\n",
    "df_census_info_pickup['census_tract_name'] = df_census_info_pickup.index\n",
    "\n",
    "# merge with census polygon, remove census with trips less then 100\n",
    "census_tracts = census_tracts.rename(columns = {'name10': 'census_tract_name'}, inplace = False)\n",
    "census_tracts = census_tracts.astype({'census_tract_name': 'float64'})\n",
    "df_census_pickup = pd.merge(census_tracts, df_census_info_pickup, how='inner', on='census_tract_name')\n",
    "df_census_pickup_major = df_census_pickup[df_census_pickup['count'] > 100] "
   ]
  },
  {
   "cell_type": "code",
   "execution_count": 492,
   "metadata": {},
   "outputs": [
    {
     "data": {
      "text/html": [
       "<div>\n",
       "<style scoped>\n",
       "    .dataframe tbody tr th:only-of-type {\n",
       "        vertical-align: middle;\n",
       "    }\n",
       "\n",
       "    .dataframe tbody tr th {\n",
       "        vertical-align: top;\n",
       "    }\n",
       "\n",
       "    .dataframe thead th {\n",
       "        text-align: right;\n",
       "    }\n",
       "</style>\n",
       "<table border=\"1\" class=\"dataframe\">\n",
       "  <thead>\n",
       "    <tr style=\"text-align: right;\">\n",
       "      <th></th>\n",
       "      <th>census_tract_name</th>\n",
       "      <th>commarea</th>\n",
       "      <th>geometry</th>\n",
       "      <th>count</th>\n",
       "      <th>percentage</th>\n",
       "      <th>unit_fare</th>\n",
       "    </tr>\n",
       "  </thead>\n",
       "  <tbody>\n",
       "    <tr>\n",
       "      <th>168</th>\n",
       "      <td>810.0</td>\n",
       "      <td>8</td>\n",
       "      <td>MULTIPOLYGON (((-87.62980 41.89751, -87.62978 ...</td>\n",
       "      <td>192761</td>\n",
       "      <td>16.84%</td>\n",
       "      <td>4.729730</td>\n",
       "    </tr>\n",
       "    <tr>\n",
       "      <th>326</th>\n",
       "      <td>9800.0</td>\n",
       "      <td>76</td>\n",
       "      <td>MULTIPOLYGON (((-87.92063 42.00453, -87.92056 ...</td>\n",
       "      <td>112081</td>\n",
       "      <td>9.79%</td>\n",
       "      <td>2.570423</td>\n",
       "    </tr>\n",
       "    <tr>\n",
       "      <th>52</th>\n",
       "      <td>8329.0</td>\n",
       "      <td>28</td>\n",
       "      <td>MULTIPOLYGON (((-87.66656 41.87285, -87.66656 ...</td>\n",
       "      <td>85667</td>\n",
       "      <td>7.48%</td>\n",
       "      <td>4.090909</td>\n",
       "    </tr>\n",
       "    <tr>\n",
       "      <th>195</th>\n",
       "      <td>3204.0</td>\n",
       "      <td>32</td>\n",
       "      <td>MULTIPOLYGON (((-87.61644 41.88233, -87.60925 ...</td>\n",
       "      <td>81045</td>\n",
       "      <td>7.08%</td>\n",
       "      <td>4.400000</td>\n",
       "    </tr>\n",
       "    <tr>\n",
       "      <th>340</th>\n",
       "      <td>622.0</td>\n",
       "      <td>6</td>\n",
       "      <td>MULTIPOLYGON (((-87.65908 41.94395, -87.65909 ...</td>\n",
       "      <td>50678</td>\n",
       "      <td>4.43%</td>\n",
       "      <td>3.939394</td>\n",
       "    </tr>\n",
       "  </tbody>\n",
       "</table>\n",
       "</div>"
      ],
      "text/plain": [
       "     census_tract_name commarea  \\\n",
       "168              810.0        8   \n",
       "326             9800.0       76   \n",
       "52              8329.0       28   \n",
       "195             3204.0       32   \n",
       "340              622.0        6   \n",
       "\n",
       "                                              geometry   count percentage  \\\n",
       "168  MULTIPOLYGON (((-87.62980 41.89751, -87.62978 ...  192761     16.84%   \n",
       "326  MULTIPOLYGON (((-87.92063 42.00453, -87.92056 ...  112081      9.79%   \n",
       "52   MULTIPOLYGON (((-87.66656 41.87285, -87.66656 ...   85667      7.48%   \n",
       "195  MULTIPOLYGON (((-87.61644 41.88233, -87.60925 ...   81045      7.08%   \n",
       "340  MULTIPOLYGON (((-87.65908 41.94395, -87.65909 ...   50678      4.43%   \n",
       "\n",
       "     unit_fare  \n",
       "168   4.729730  \n",
       "326   2.570423  \n",
       "52    4.090909  \n",
       "195   4.400000  \n",
       "340   3.939394  "
      ]
     },
     "execution_count": 492,
     "metadata": {},
     "output_type": "execute_result"
    }
   ],
   "source": [
    "df_census_pickup_major = df_census_pickup_major.sort_values('count', ascending=False)\n",
    "df_census_pickup_major.head()"
   ]
  },
  {
   "cell_type": "code",
   "execution_count": 493,
   "metadata": {},
   "outputs": [
    {
     "name": "stdout",
     "output_type": "stream",
     "text": [
      "User Guide: https://docs.kepler.gl/docs/keplergl-jupyter\n"
     ]
    }
   ],
   "source": [
    "map_chicago_cencus_pickup =KeplerGl(height = 800)\n",
    "map_chicago_cencus_pickup.add_data(data = df_census_pickup_major, name = 'Pickup Census Tracts')"
   ]
  },
  {
   "cell_type": "code",
   "execution_count": 599,
   "metadata": {},
   "outputs": [
    {
     "name": "stdout",
     "output_type": "stream",
     "text": [
      "Map saved to map_chicago_cencus_pickup.html!\n"
     ]
    }
   ],
   "source": [
    "map_chicago_cencus_pickup.save_to_html(file_name='map_chicago_cencus_pickup.html')"
   ]
  },
  {
   "cell_type": "code",
   "execution_count": 615,
   "metadata": {
    "scrolled": false
   },
   "outputs": [
    {
     "data": {
      "application/vnd.jupyter.widget-view+json": {
       "model_id": "c2f190b7ffac40bd8efcc01d365da2f6",
       "version_major": 2,
       "version_minor": 0
      },
      "text/plain": [
       "KeplerGl(config={'version': 'v1', 'config': {'visState': {'filters': [], 'layers': [], 'interactionConfig': {'…"
      ]
     },
     "metadata": {},
     "output_type": "display_data"
    }
   ],
   "source": [
    "map_chicago_cencus_pickup"
   ]
  },
  {
   "cell_type": "markdown",
   "metadata": {},
   "source": [
    "# Investigation on dropoff census"
   ]
  },
  {
   "cell_type": "code",
   "execution_count": 497,
   "metadata": {},
   "outputs": [],
   "source": [
    "# calculate median unit_fare by census\n",
    "df_census_unit_fare_dropoff = df.groupby('drop_off_census')['unit_fare'].median()  # use median to minimise the impacts of the extreme cases\n",
    "df_census_unit_fare_dropoff = df_census_unit_fare_dropoff.to_frame(name=\"unit_fare\")\n",
    "\n",
    "# calculate trip counts and percentage by census\n",
    "df_census_count_dropoff = df.groupby(['drop_off_census']).size()\n",
    "df_census_count_dropoff = df_census_count_dropoff.to_frame(name=\"count\")\n",
    "df_census_count_dropoff['percentage'] = [\"{0:.2f}%\".format(val * 100) for val in df_census_count_dropoff['count'] / len(df)]  \n",
    "df_census_info_dropoff = pd.merge(df_census_count_dropoff, df_census_unit_fare_dropoff, how='inner', on='drop_off_census')\n",
    "df_census_info_dropoff['census_tract_name'] = df_census_info_dropoff.index\n",
    "\n",
    "# merge with census polygon, remove census with trips less then 100\n",
    "df_census_dropoff = pd.merge(census_tracts, df_census_info_dropoff, how='inner', on='census_tract_name')\n",
    "df_census_major_dropoff = df_census_dropoff[df_census_dropoff['count'] > 100] "
   ]
  },
  {
   "cell_type": "code",
   "execution_count": 498,
   "metadata": {},
   "outputs": [
    {
     "data": {
      "text/html": [
       "<div>\n",
       "<style scoped>\n",
       "    .dataframe tbody tr th:only-of-type {\n",
       "        vertical-align: middle;\n",
       "    }\n",
       "\n",
       "    .dataframe tbody tr th {\n",
       "        vertical-align: top;\n",
       "    }\n",
       "\n",
       "    .dataframe thead th {\n",
       "        text-align: right;\n",
       "    }\n",
       "</style>\n",
       "<table border=\"1\" class=\"dataframe\">\n",
       "  <thead>\n",
       "    <tr style=\"text-align: right;\">\n",
       "      <th></th>\n",
       "      <th>census_tract_name</th>\n",
       "      <th>commarea</th>\n",
       "      <th>geometry</th>\n",
       "      <th>count</th>\n",
       "      <th>percentage</th>\n",
       "      <th>unit_fare</th>\n",
       "    </tr>\n",
       "  </thead>\n",
       "  <tbody>\n",
       "    <tr>\n",
       "      <th>187</th>\n",
       "      <td>810.0</td>\n",
       "      <td>8</td>\n",
       "      <td>MULTIPOLYGON (((-87.62980 41.89751, -87.62978 ...</td>\n",
       "      <td>173575</td>\n",
       "      <td>15.16%</td>\n",
       "      <td>4.969880</td>\n",
       "    </tr>\n",
       "    <tr>\n",
       "      <th>56</th>\n",
       "      <td>8329.0</td>\n",
       "      <td>28</td>\n",
       "      <td>MULTIPOLYGON (((-87.66656 41.87285, -87.66656 ...</td>\n",
       "      <td>79670</td>\n",
       "      <td>6.96%</td>\n",
       "      <td>4.094828</td>\n",
       "    </tr>\n",
       "    <tr>\n",
       "      <th>219</th>\n",
       "      <td>3204.0</td>\n",
       "      <td>32</td>\n",
       "      <td>MULTIPOLYGON (((-87.61644 41.88233, -87.60925 ...</td>\n",
       "      <td>65560</td>\n",
       "      <td>5.73%</td>\n",
       "      <td>4.736842</td>\n",
       "    </tr>\n",
       "    <tr>\n",
       "      <th>393</th>\n",
       "      <td>622.0</td>\n",
       "      <td>6</td>\n",
       "      <td>MULTIPOLYGON (((-87.65908 41.94395, -87.65909 ...</td>\n",
       "      <td>61430</td>\n",
       "      <td>5.37%</td>\n",
       "      <td>3.502415</td>\n",
       "    </tr>\n",
       "    <tr>\n",
       "      <th>414</th>\n",
       "      <td>711.0</td>\n",
       "      <td>7</td>\n",
       "      <td>MULTIPOLYGON (((-87.65276 41.91811, -87.65276 ...</td>\n",
       "      <td>46547</td>\n",
       "      <td>4.07%</td>\n",
       "      <td>3.816794</td>\n",
       "    </tr>\n",
       "  </tbody>\n",
       "</table>\n",
       "</div>"
      ],
      "text/plain": [
       "     census_tract_name commarea  \\\n",
       "187              810.0        8   \n",
       "56              8329.0       28   \n",
       "219             3204.0       32   \n",
       "393              622.0        6   \n",
       "414              711.0        7   \n",
       "\n",
       "                                              geometry   count percentage  \\\n",
       "187  MULTIPOLYGON (((-87.62980 41.89751, -87.62978 ...  173575     15.16%   \n",
       "56   MULTIPOLYGON (((-87.66656 41.87285, -87.66656 ...   79670      6.96%   \n",
       "219  MULTIPOLYGON (((-87.61644 41.88233, -87.60925 ...   65560      5.73%   \n",
       "393  MULTIPOLYGON (((-87.65908 41.94395, -87.65909 ...   61430      5.37%   \n",
       "414  MULTIPOLYGON (((-87.65276 41.91811, -87.65276 ...   46547      4.07%   \n",
       "\n",
       "     unit_fare  \n",
       "187   4.969880  \n",
       "56    4.094828  \n",
       "219   4.736842  \n",
       "393   3.502415  \n",
       "414   3.816794  "
      ]
     },
     "execution_count": 498,
     "metadata": {},
     "output_type": "execute_result"
    }
   ],
   "source": [
    "df_census_major_dropoff = df_census_major_dropoff.sort_values('count', ascending=False)\n",
    "df_census_major_dropoff.head()"
   ]
  },
  {
   "cell_type": "code",
   "execution_count": 500,
   "metadata": {},
   "outputs": [
    {
     "name": "stdout",
     "output_type": "stream",
     "text": [
      "User Guide: https://docs.kepler.gl/docs/keplergl-jupyter\n"
     ]
    }
   ],
   "source": [
    "map_chicago_cencus_dropoff = KeplerGl(height = 800)\n",
    "map_chicago_cencus_dropoff.add_data(data = df_census_major_dropoff, name = 'Dopoff Census Tracts')"
   ]
  },
  {
   "cell_type": "code",
   "execution_count": 600,
   "metadata": {},
   "outputs": [
    {
     "name": "stdout",
     "output_type": "stream",
     "text": [
      "Map saved to map_chicago_cencus_dropoff.html!\n"
     ]
    }
   ],
   "source": [
    "map_chicago_cencus_dropoff.save_to_html(file_name='map_chicago_cencus_dropoff.html')"
   ]
  },
  {
   "cell_type": "code",
   "execution_count": 616,
   "metadata": {},
   "outputs": [
    {
     "data": {
      "application/vnd.jupyter.widget-view+json": {
       "model_id": "0ea1ba36e15d48fd81428cf13ba72dfb",
       "version_major": 2,
       "version_minor": 0
      },
      "text/plain": [
       "KeplerGl(config={'version': 'v1', 'config': {'visState': {'filters': [], 'layers': [{'id': '54yhd0g', 'type': …"
      ]
     },
     "metadata": {},
     "output_type": "display_data"
    }
   ],
   "source": [
    "map_chicago_cencus_dropoff"
   ]
  },
  {
   "cell_type": "markdown",
   "metadata": {},
   "source": [
    "# Investigation on Time of the Day"
   ]
  },
  {
   "cell_type": "code",
   "execution_count": 144,
   "metadata": {},
   "outputs": [],
   "source": [
    "# calculate median unit_fare by hour\n",
    "df_hour_unit_fare = df.groupby('hour')['unit_fare'].median()  # use median to minimise the impacts of the extreme cases\n",
    "df_hour_unit_fare = df_hour_unit_fare.to_frame(name=\"unit_fare\")\n",
    "\n",
    "# calculate trip counts and percentage by hour\n",
    "df_hour_count = df.groupby(['hour']).size()\n",
    "df_hour_count = df_hour_count.to_frame(name=\"count\")\n",
    "df_hour_count['percentage'] = [\"{0:.2f}%\".format(val * 100) for val in df_hour_count['count'] / len(df)]  \n",
    "df_hour_info = pd.merge(df_hour_count, df_hour_unit_fare, how='inner', on='hour')\n",
    "df_hour_info['hour'] = df_hour_info.index"
   ]
  },
  {
   "cell_type": "code",
   "execution_count": 162,
   "metadata": {},
   "outputs": [
    {
     "data": {
      "image/png": "[encoded data removed]",
      "text/plain": [
       "<Figure size 432x288 with 1 Axes>"
      ]
     },
     "metadata": {
      "needs_background": "light"
     },
     "output_type": "display_data"
    }
   ],
   "source": [
    "ax = df_hour_info.plot(x='hour', y=[\"count\"], kind=\"bar\", facecolor='gray')"
   ]
  },
  {
   "cell_type": "code",
   "execution_count": 163,
   "metadata": {},
   "outputs": [
    {
     "data": {
      "image/png": "[encoded data removed]",
      "text/plain": [
       "<Figure size 432x288 with 1 Axes>"
      ]
     },
     "metadata": {
      "needs_background": "light"
     },
     "output_type": "display_data"
    }
   ],
   "source": [
    "ax = df_hour_info.plot(x='hour', y=[\"unit_fare\"], kind=\"bar\", facecolor='gray')"
   ]
  },
  {
   "cell_type": "markdown",
   "metadata": {},
   "source": [
    "# Investigation on Day of the Week"
   ]
  },
  {
   "cell_type": "code",
   "execution_count": 181,
   "metadata": {},
   "outputs": [],
   "source": [
    "df_weekend = df[df['is_weekday'] == False]"
   ]
  },
  {
   "cell_type": "code",
   "execution_count": 182,
   "metadata": {},
   "outputs": [
    {
     "data": {
      "text/plain": [
       "264986"
      ]
     },
     "execution_count": 182,
     "metadata": {},
     "output_type": "execute_result"
    }
   ],
   "source": [
    "len(df_weekend)"
   ]
  },
  {
   "cell_type": "code",
   "execution_count": 185,
   "metadata": {},
   "outputs": [],
   "source": [
    "# calculate median unit_fare by hour\n",
    "df_hour_unit_fare = df_weekend.groupby('hour')['unit_fare'].median()  # use median to minimise the impacts of the extreme cases\n",
    "df_hour_unit_fare = df_hour_unit_fare.to_frame(name=\"unit_fare\")\n",
    "\n",
    "# calculate trip counts and percentage by hour\n",
    "df_hour_count = df_weekend.groupby(['hour']).size()\n",
    "df_hour_count = df_hour_count.to_frame(name=\"count\")\n",
    "df_hour_count['percentage'] = [\"{0:.2f}%\".format(val * 100) for val in df_hour_count['count'] / len(df_weekend)]  \n",
    "df_hour_info = pd.merge(df_hour_count, df_hour_unit_fare, how='inner', on='hour')\n",
    "df_hour_info['hour'] = df_hour_info.index"
   ]
  },
  {
   "cell_type": "code",
   "execution_count": 186,
   "metadata": {},
   "outputs": [
    {
     "data": {
      "image/png": "[encoded data removed]",
      "text/plain": [
       "<Figure size 432x288 with 1 Axes>"
      ]
     },
     "metadata": {
      "needs_background": "light"
     },
     "output_type": "display_data"
    }
   ],
   "source": [
    "ax = df_hour_info.plot(x='hour', y=[\"count\"], kind=\"bar\", facecolor='gray')"
   ]
  },
  {
   "cell_type": "code",
   "execution_count": 187,
   "metadata": {},
   "outputs": [
    {
     "data": {
      "image/png": "[encoded data removed]",
      "text/plain": [
       "<Figure size 432x288 with 1 Axes>"
      ]
     },
     "metadata": {
      "needs_background": "light"
     },
     "output_type": "display_data"
    }
   ],
   "source": [
    "ax = df_hour_info.plot(x='hour', y=[\"unit_fare\"], kind=\"bar\", facecolor='gray')"
   ]
  },
  {
   "cell_type": "markdown",
   "metadata": {},
   "source": [
    "# Price Prediction\n",
    "\n",
    "fly_distance (numerical)\n",
    "\n",
    "pickup_census_tract (categorical)\n",
    "\n",
    "dropoff_census_tract (categorical)\n",
    "\n",
    "hour (categorical)\n",
    "\n",
    "day (boolean)\n"
   ]
  },
  {
   "cell_type": "code",
   "execution_count": 554,
   "metadata": {},
   "outputs": [],
   "source": [
    "import lightgbm as lgbm\n",
    "from sklearn import preprocessing\n",
    "from sklearn.model_selection import train_test_split\n",
    "from sklearn.metrics import mean_absolute_error, mean_absolute_percentage_error"
   ]
  },
  {
   "cell_type": "code",
   "execution_count": 593,
   "metadata": {},
   "outputs": [],
   "source": [
    "df = df[df['Trip Miles'] <= 50]\n",
    "df = df[df.Fare <= 150]\n",
    "df = df[df.Fare > 0]\n",
    "df_model = df[['Fare', 'is_weekday', 'hour', 'pick_up_census', 'drop_off_census', 'fly_distance']]\n",
    "df_model = df_model.dropna(axis=0)\n",
    "df_model = df_model.reset_index(drop=True)"
   ]
  },
  {
   "cell_type": "code",
   "execution_count": 594,
   "metadata": {},
   "outputs": [],
   "source": [
    "y = df_model.Fare.values\n",
    "x = df_model.drop(['Fare'], axis=1)\n",
    "x_train, x_test, y_train, y_test = train_test_split(x, y, test_size=0.2, random_state=815)"
   ]
  },
  {
   "cell_type": "code",
   "execution_count": 595,
   "metadata": {},
   "outputs": [
    {
     "name": "stderr",
     "output_type": "stream",
     "text": [
      "/Users/hongde.liang/opt/anaconda3/envs/py36hd/lib/python3.6/site-packages/lightgbm/basic.py:1702: UserWarning: Using categorical_feature in Dataset.\n",
      "  _log_warning('Using categorical_feature in Dataset.')\n"
     ]
    },
    {
     "data": {
      "text/plain": [
       "LGBMRegressor(learning_rate=0.33, num_leaves=80, reg_alpha=61.0,\n",
       "              reg_lambda=0.24, subsample=0.75)"
      ]
     },
     "execution_count": 595,
     "metadata": {},
     "output_type": "execute_result"
    }
   ],
   "source": [
    "cat_features = [1,2,3]\n",
    "best_params = {\n",
    "    'subsample': 0.75,\n",
    "    'reg_alpha': 61.0,\n",
    "    'reg_lambda': 0.24,\n",
    "    'learning_rate': 0.33, \n",
    "    'num_leaves': 80,  \n",
    "}\n",
    "# lgbm_best = lgbm.LGBMRegressor(**best_params)\n",
    "lgbm_best.fit(x, y)\n",
    "lgbm_best.fit(x, y, categorical_feature=cat_features)"
   ]
  },
  {
   "cell_type": "code",
   "execution_count": 596,
   "metadata": {},
   "outputs": [
    {
     "data": {
      "image/png": "[encoded data removed]",
      "text/plain": [
       "<Figure size 432x288 with 1 Axes>"
      ]
     },
     "metadata": {
      "needs_background": "light"
     },
     "output_type": "display_data"
    }
   ],
   "source": [
    "ax = lgbm.plot_importance(lgbm_best)"
   ]
  },
  {
   "cell_type": "code",
   "execution_count": 597,
   "metadata": {},
   "outputs": [
    {
     "name": "stdout",
     "output_type": "stream",
     "text": [
      "0.8047324956742443\n"
     ]
    }
   ],
   "source": [
    "score = lgbm_best.score(x, y)\n",
    "print(score)"
   ]
  },
  {
   "cell_type": "code",
   "execution_count": 598,
   "metadata": {},
   "outputs": [
    {
     "name": "stdout",
     "output_type": "stream",
     "text": [
      "mae: 3.275, mape: 0.334\n"
     ]
    }
   ],
   "source": [
    "## Test for lgbm\n",
    "y_pred = lgbm_best.predict(x_test)\n",
    "mae = mean_absolute_error(y_test, y_pred)\n",
    "mape = mean_absolute_percentage_error(y_test, y_pred)\n",
    "print('mae: {:.3f}, mape: {:.3f}'.format(mae, mape))"
   ]
  },
  {
   "cell_type": "code",
   "execution_count": 587,
   "metadata": {},
   "outputs": [
    {
     "data": {
      "text/html": [
       "<style>\n",
       "table {align:left;display:block}\n",
       "</style>\n"
      ],
      "text/plain": [
       "<IPython.core.display.HTML object>"
      ]
     },
     "metadata": {},
     "output_type": "display_data"
    }
   ],
   "source": [
    "%%html\n",
    "<style>\n",
    "table {align:left;display:block}\n",
    "</style>"
   ]
  },
  {
   "cell_type": "markdown",
   "metadata": {},
   "source": [
    "| Exp | MAE | MAPE | SCORE |\n",
    "| :-- | :-- | :-- | :-- |\n",
    "| native setting | 3.46 | 0.35 | 0.79 |\n",
    "| native setting categorical census | 3.36 | 0.34 | 0.79 |\n",
    "| customised setting 1 | 3.39| 0.22 | 0.73 |\n",
    "| customised setting 1  categorical census | 3.39 | 0.22 | 0.73 |\n",
    "| customised setting 2 | 3.33 | 0.34 | 0.80 |\n",
    "| customised setting 2 categorical census | 3.28 | 0.33 | 0.80 |\n",
    "| customised setting 2 categorical census hour | 3.27 | 0.33 | 0.80 |"
   ]
  },
  {
   "cell_type": "code",
   "execution_count": 433,
   "metadata": {},
   "outputs": [
    {
     "data": {
      "text/plain": [
       "count    2.283550e+05\n",
       "mean     3.383122e-01\n",
       "std      4.791330e+00\n",
       "min      2.730379e-07\n",
       "25%      5.380452e-02\n",
       "50%      1.438308e-01\n",
       "75%      3.446424e-01\n",
       "max      1.123063e+03\n",
       "dtype: float64"
      ]
     },
     "execution_count": 433,
     "metadata": {},
     "output_type": "execute_result"
    }
   ],
   "source": [
    "pd.Series(abs(y_pred - y_test)/y_test).describe()"
   ]
  },
  {
   "cell_type": "code",
   "execution_count": 378,
   "metadata": {},
   "outputs": [
    {
     "data": {
      "text/plain": [
       "count    2.283550e+05\n",
       "mean     2.231528e-01\n",
       "std      2.570876e+00\n",
       "min      8.501113e-07\n",
       "25%      4.794024e-02\n",
       "50%      1.243516e-01\n",
       "75%      2.666673e-01\n",
       "max      5.434750e+02\n",
       "dtype: float64"
      ]
     },
     "execution_count": 378,
     "metadata": {},
     "output_type": "execute_result"
    }
   ],
   "source": [
    "pd.Series(abs(y_pred - y_test)/y_test).describe()"
   ]
  },
  {
   "cell_type": "code",
   "execution_count": 421,
   "metadata": {},
   "outputs": [
    {
     "data": {
      "image/png": "[encoded data removed]",
      "text/plain": [
       "<Figure size 432x288 with 1 Axes>"
      ]
     },
     "metadata": {
      "needs_background": "light"
     },
     "output_type": "display_data"
    }
   ],
   "source": [
    "ax = plt.hist(y_pred - y_test, bins = 100)"
   ]
  }
 ],
 "metadata": {
  "kernelspec": {
   "display_name": "Python 3",
   "language": "python",
   "name": "python3"
  },
  "language_info": {
   "codemirror_mode": {
    "name": "ipython",
    "version": 3
   },
   "file_extension": ".py",
   "mimetype": "text/x-python",
   "name": "python",
   "nbconvert_exporter": "python",
   "pygments_lexer": "ipython3",
   "version": "3.6.13"
  }
 },
 "nbformat": 4,
 "nbformat_minor": 2
}
